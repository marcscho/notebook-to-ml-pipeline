{
 "metadata": {
  "language_info": {
   "codemirror_mode": {
    "name": "ipython",
    "version": 3
   },
   "file_extension": ".py",
   "mimetype": "text/x-python",
   "name": "python",
   "nbconvert_exporter": "python",
   "pygments_lexer": "ipython3",
   "version": "3.7.9-final"
  },
  "orig_nbformat": 2,
  "kernelspec": {
   "name": "Python 3.7.9 64-bit ('aml37': conda)",
   "display_name": "Python 3.7.9 64-bit ('aml37': conda)",
   "metadata": {
    "interpreter": {
     "hash": "c8bb228c3d4a2844779ebad8fa8561a2f3a1ae0c017ea0843b2cfe7345a7aa3f"
    }
   }
  }
 },
 "nbformat": 4,
 "nbformat_minor": 2,
 "cells": [
  {
   "cell_type": "code",
   "execution_count": 1,
   "metadata": {},
   "outputs": [],
   "source": [
    "from azureml.core import Workspace, Model, Dataset, Datastore, Experiment, Environment, ScriptRunConfig, RunConfiguration\n",
    "from azureml.core.compute import ComputeTarget, AmlCompute\n",
    "from azureml.core.compute_target import ComputeTargetException\n",
    "from azureml.pipeline.core import Pipeline\n",
    "from azureml.pipeline.steps import PythonScriptStep\n",
    "from azureml.core.environment import CondaDependencies\n",
    "import joblib\n",
    "import os\n",
    "import pandas as pd\n",
    "from datetime import datetime"
   ]
  },
  {
   "cell_type": "code",
   "execution_count": 2,
   "metadata": {},
   "outputs": [],
   "source": [
    "### connecting to ML workspace\n",
    "### --------------------\n",
    "\n",
    "subscription_id = '8c386bb9-fbb5-45dd-a9cd-2ca847235881'\n",
    "resource_group = 'rg-aml-ws-ga'\n",
    "workspace_name = 'aml-ws-ga'\n",
    "\n",
    "ws = Workspace(subscription_id, resource_group, workspace_name)"
   ]
  },
  {
   "cell_type": "code",
   "execution_count": 3,
   "metadata": {},
   "outputs": [
    {
     "output_type": "stream",
     "name": "stdout",
     "text": [
      "Found existing cluster, use it.\n",
      "Succeeded\n",
      "AmlCompute wait for completion finished\n",
      "\n",
      "Minimum number of nodes requested have been provisioned\n"
     ]
    }
   ],
   "source": [
    "### create compute target\n",
    "### --------------------\n",
    "\n",
    "cpu_cluster_name = \"cpu-cluster\"\n",
    "\n",
    "# Verify that cluster does not exist already\n",
    "try:\n",
    "    compute_target = ComputeTarget(workspace=ws, name=cpu_cluster_name)\n",
    "    print('Found existing cluster, use it.')\n",
    "except ComputeTargetException:\n",
    "    compute_config = AmlCompute.provisioning_configuration(vm_size='STANDARD_DS11_V2',\n",
    "                                                           min_nodes = 0, max_nodes=2)\n",
    "    compute_target = ComputeTarget.create(ws, cpu_cluster_name, compute_config)\n",
    "\n",
    "compute_target.wait_for_completion(show_output=True)"
   ]
  },
  {
   "cell_type": "code",
   "execution_count": 4,
   "metadata": {},
   "outputs": [],
   "source": [
    "### create directory for script\n",
    "### --------------------\n",
    "\n",
    "os.makedirs('./scripts', exist_ok= True)"
   ]
  },
  {
   "cell_type": "code",
   "execution_count": 11,
   "metadata": {},
   "outputs": [
    {
     "output_type": "stream",
     "name": "stdout",
     "text": [
      "Overwriting scripts/batch_score.py\n"
     ]
    }
   ],
   "source": [
    "%%writefile scripts/batch_score.py\n",
    "\n",
    "### batch_score.py\n",
    "### --------------------\n",
    "\n",
    "from azureml.core import Workspace, Model, Dataset, Datastore\n",
    "from azureml.core.authentication import ServicePrincipalAuthentication #\n",
    "import joblib\n",
    "import pandas as pd\n",
    "from datetime import datetime\n",
    "\n",
    "subscription_id = '8c386bb9-fbb5-45dd-a9cd-2ca847235881'\n",
    "resource_group = 'rg-aml-ws-ga'\n",
    "workspace_name = 'aml-ws-ga'\n",
    "\n",
    "####\n",
    " \n",
    "#svc_pr_password = run.get_secret('mlhero-aml-ws-ga')\n",
    "svc_pr_password = 'GdCl.3VDLIc.O_0DQxMBxKRaw9k8D~hMps'\n",
    "\n",
    "svc_pr = ServicePrincipalAuthentication(tenant_id=\"72f988bf-86f1-41af-91ab-2d7cd011db47\", service_principal_id=\"c8ef5ed8-7a7d-4831-984e-571b9c646603\", service_principal_password=svc_pr_password)\n",
    "\n",
    "###\n",
    "\n",
    "ws = Workspace(subscription_id, resource_group, workspace_name, auth = svc_pr)\n",
    "\n",
    "### Load data for scoring\n",
    "df = Dataset.get_by_name(ws, 'german_credit_hsg').to_pandas_dataframe()\n",
    "df.drop('Sno', axis = 1, inplace = True)\n",
    "new_data = df[9:16]\n",
    "\n",
    "### Load model for scoring\n",
    "model = Model(workspace = ws, name='german-credit-hsg')\n",
    "model.download()\n",
    "loaded_model = joblib.load('model.pkl')\n",
    "\n",
    "### Score new data\n",
    "results = loaded_model.predict(new_data)\n",
    "new_data['prediction'] = results\n",
    "\n",
    "### write output csv\n",
    "now = datetime.now()\n",
    "now = now.strftime(\"%Y_%m_%d__%H_%M_%S\")\n",
    "filename = now + '.csv'\n",
    "new_data.to_csv(filename)\n",
    "\n",
    "### upload csv to datastore\n",
    "ds = Datastore.get_default(ws)\n",
    "ds.upload_files([filename], target_path = './predictions')\n"
   ]
  },
  {
   "cell_type": "code",
   "execution_count": 12,
   "metadata": {},
   "outputs": [],
   "source": [
    "### defining run environment\n",
    "### --------------------\n",
    "\n",
    "myenv = Environment(name=\"myenv\")\n",
    "conda_dep = CondaDependencies()\n",
    "conda_dep.add_pip_package(\"joblib\")\n",
    "conda_dep.add_pip_package(\"pandas\")\n",
    "conda_dep.add_pip_package(\"sklearn\")\n",
    "conda_dep.add_pip_package(\"azureml-sdk\")\n",
    "\n",
    "myenv.python.conda_dependencies=conda_dep"
   ]
  },
  {
   "cell_type": "code",
   "execution_count": 14,
   "metadata": {},
   "outputs": [],
   "source": [
    "### creating run config\n",
    "### --------------------\n",
    "\n",
    "rc = RunConfiguration(script= './scripts/batch_score.py', conda_dependencies= conda_dep)"
   ]
  },
  {
   "cell_type": "code",
   "execution_count": 15,
   "metadata": {},
   "outputs": [],
   "source": [
    "### create pipeline step\n",
    "### --------------------\n",
    "\n",
    "score_step = PythonScriptStep(name = 'Score step', script_name = 'batch_score.py', source_directory = './scripts', compute_target = compute_target, runconfig = rc, allow_reuse = False)\n"
   ]
  },
  {
   "cell_type": "code",
   "execution_count": 16,
   "metadata": {},
   "outputs": [
    {
     "output_type": "stream",
     "name": "stdout",
     "text": [
      "Step Score step is ready to be created [6a82a34d]\n"
     ]
    },
    {
     "output_type": "execute_result",
     "data": {
      "text/plain": [
       "[]"
      ]
     },
     "metadata": {},
     "execution_count": 16
    }
   ],
   "source": [
    "### create & validate pipeline\n",
    "### --------------------\n",
    "\n",
    "steps = [score_step]\n",
    "\n",
    "pipeline = Pipeline(workspace=ws, steps=steps)\n",
    "pipeline.validate()"
   ]
  },
  {
   "cell_type": "code",
   "execution_count": 17,
   "metadata": {},
   "outputs": [
    {
     "output_type": "stream",
     "name": "stdout",
     "text": [
      "Created step Score step [6a82a34d][56f60598-da68-46e7-acb0-32fb449fb55c], (This step will run and generate new outputs)\n",
      "Submitted PipelineRun 53131a41-4b21-418c-af10-506926a31cd4\n",
      "Link to Azure Machine Learning Portal: https://ml.azure.com/experiments/Batch-Scoring-Remote2/runs/53131a41-4b21-418c-af10-506926a31cd4?wsid=/subscriptions/8c386bb9-fbb5-45dd-a9cd-2ca847235881/resourcegroups/rg-aml-ws-ga/workspaces/aml-ws-ga\n"
     ]
    }
   ],
   "source": [
    "experiment = Experiment(ws, 'Batch-Scoring-Remote2')\n",
    "\n",
    "run = experiment.submit(pipeline)"
   ]
  },
  {
   "cell_type": "code",
   "execution_count": null,
   "metadata": {},
   "outputs": [],
   "source": [
    "### publish pipeline\n",
    "### --------------------\n",
    "\n",
    "#pipeline.publish(name='pred-ops-concept-test')"
   ]
  }
 ]
}